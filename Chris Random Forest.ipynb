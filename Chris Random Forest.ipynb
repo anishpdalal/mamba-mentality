{
 "cells": [
  {
   "cell_type": "code",
   "execution_count": 1,
   "metadata": {},
   "outputs": [],
   "source": [
    "import warnings\n",
    "warnings.filterwarnings('ignore')"
   ]
  },
  {
   "cell_type": "code",
   "execution_count": 2,
   "metadata": {},
   "outputs": [],
   "source": [
    "import pandas as pd\n",
    "import numpy as np"
   ]
  },
  {
   "cell_type": "markdown",
   "metadata": {},
   "source": [
    "Importing data and removing entries with no `shot_made_flag`"
   ]
  },
  {
   "cell_type": "code",
   "execution_count": 3,
   "metadata": {},
   "outputs": [],
   "source": [
    "data = pd.read_csv('~/data/kobe/data.csv')"
   ]
  },
  {
   "cell_type": "code",
   "execution_count": 4,
   "metadata": {},
   "outputs": [],
   "source": [
    "data = data[data.shot_made_flag.notnull()].reset_index()"
   ]
  },
  {
   "cell_type": "markdown",
   "metadata": {},
   "source": [
    "Identifying key features and filtering data set for these features"
   ]
  },
  {
   "cell_type": "code",
   "execution_count": 5,
   "metadata": {},
   "outputs": [],
   "source": [
    "features = ['combined_shot_type', 'period', 'playoffs', 'seconds_remaining', 'minutes_remaining', 'season',\n",
    "          'shot_distance', 'shot_made_flag', 'shot_zone_area', 'game_date', 'matchup']"
   ]
  },
  {
   "cell_type": "code",
   "execution_count": 6,
   "metadata": {},
   "outputs": [],
   "source": [
    "dataset = data[features]"
   ]
  },
  {
   "cell_type": "markdown",
   "metadata": {},
   "source": [
    "Some feature engineering, extracting total seconds remaining, month of game and whether home or away"
   ]
  },
  {
   "cell_type": "code",
   "execution_count": 7,
   "metadata": {},
   "outputs": [],
   "source": [
    "dataset['total_seconds_remaining'] = 60*dataset['minutes_remaining'] + dataset['seconds_remaining']\n",
    "dataset.drop('minutes_remaining', axis=1, inplace=True)\n",
    "dataset.drop('seconds_remaining', axis=1, inplace=True)"
   ]
  },
  {
   "cell_type": "code",
   "execution_count": 8,
   "metadata": {},
   "outputs": [],
   "source": [
    "dataset['month'] = dataset['game_date'].map(lambda x: x.split('-')[1])"
   ]
  },
  {
   "cell_type": "code",
   "execution_count": 9,
   "metadata": {},
   "outputs": [],
   "source": [
    "dataset.drop('game_date', axis=1, inplace=True)"
   ]
  },
  {
   "cell_type": "code",
   "execution_count": 10,
   "metadata": {},
   "outputs": [],
   "source": [
    "dataset['home'] = dataset['matchup'].str.contains('vs').astype('int')\n",
    "dataset.drop('matchup', axis=1, inplace=True)"
   ]
  },
  {
   "cell_type": "markdown",
   "metadata": {},
   "source": [
    "Making dummy variables from the categorical features"
   ]
  },
  {
   "cell_type": "code",
   "execution_count": 12,
   "metadata": {},
   "outputs": [],
   "source": [
    "dataset[\"combined_shot_type\"] = dataset[\"combined_shot_type\"].astype('category')\n",
    "dataset[\"period\"] = dataset[\"period\"].astype('category')\n",
    "dataset[\"playoffs\"] = dataset[\"playoffs\"].astype('category')\n",
    "dataset[\"season\"] = dataset[\"season\"].astype('category')\n",
    "dataset[\"shot_made_flag\"] = dataset[\"shot_made_flag\"].astype('category')\n",
    "dataset[\"month\"] = dataset[\"month\"].astype('category')\n",
    "dataset[\"home\"] = dataset[\"home\"].astype('category')"
   ]
  },
  {
   "cell_type": "code",
   "execution_count": 13,
   "metadata": {},
   "outputs": [],
   "source": [
    "multi_categorical_features = ['combined_shot_type', 'period', 'season', 'month', 'shot_zone_area']"
   ]
  },
  {
   "cell_type": "code",
   "execution_count": 14,
   "metadata": {},
   "outputs": [],
   "source": [
    "for c in multi_categorical_features:\n",
    "    dummies = pd.get_dummies(dataset[c], drop_first=True)\n",
    "    dummies = dummies.add_prefix(\"{}#\".format(c))\n",
    "    dataset.drop(c, axis=1, inplace=True)\n",
    "    dataset = dataset.join(dummies)"
   ]
  },
  {
   "cell_type": "code",
   "execution_count": 15,
   "metadata": {},
   "outputs": [],
   "source": [
    "from sklearn.model_selection import train_test_split"
   ]
  },
  {
   "cell_type": "code",
   "execution_count": 16,
   "metadata": {},
   "outputs": [],
   "source": [
    "X = dataset.loc[:, dataset.columns != 'shot_made_flag']\n",
    "Y = dataset['shot_made_flag']"
   ]
  },
  {
   "cell_type": "code",
   "execution_count": 17,
   "metadata": {},
   "outputs": [],
   "source": [
    "X_train, X_test, Y_train, Y_test = train_test_split(X, Y, random_state=42)"
   ]
  },
  {
   "cell_type": "code",
   "execution_count": 37,
   "metadata": {},
   "outputs": [],
   "source": [
    "from sklearn.tree import DecisionTreeClassifier\n",
    "from sklearn.ensemble import RandomForestClassifier\n",
    "from sklearn.metrics import accuracy_score"
   ]
  },
  {
   "cell_type": "markdown",
   "metadata": {},
   "source": [
    "Decision tree classifier:"
   ]
  },
  {
   "cell_type": "code",
   "execution_count": 100,
   "metadata": {},
   "outputs": [
    {
     "name": "stdout",
     "output_type": "stream",
     "text": [
      "Decision tree with 19 nodes\n",
      "Accuracy: 0.614\n"
     ]
    }
   ],
   "source": [
    "max_leaf_nodes = 10\n",
    "dt = DecisionTreeClassifier(max_leaf_nodes=max_leaf_nodes,\n",
    "                            criterion='entropy',\n",
    "                            random_state=42)\n",
    "dt.fit(X_train, Y_train)\n",
    "node_count = dt.tree_.node_count\n",
    "predicted = dt.predict(X_test)\n",
    "print(f'Decision tree with {node_count} nodes')\n",
    "print(f\"Accuracy: {accuracy_score(predicted, Y_test):.3f}\")"
   ]
  },
  {
   "cell_type": "markdown",
   "metadata": {},
   "source": [
    "Random forest classifier: "
   ]
  },
  {
   "cell_type": "code",
   "execution_count": 102,
   "metadata": {},
   "outputs": [
    {
     "name": "stdout",
     "output_type": "stream",
     "text": [
      "Accuracy: 0.616\n"
     ]
    }
   ],
   "source": [
    "max_leaf_nodes = 10\n",
    "clf = RandomForestClassifier(max_leaf_nodes=10, n_estimators=100, criterion='entropy', random_state=42)\n",
    "clf.fit(X_train, Y_train)\n",
    "predicted = clf.predict(X_test)\n",
    "print(f\"Accuracy: {accuracy_score(predicted, Y_test):.3f}\")"
   ]
  },
  {
   "cell_type": "markdown",
   "metadata": {},
   "source": [
    "We can rank the features in order of importance:"
   ]
  },
  {
   "cell_type": "code",
   "execution_count": 103,
   "metadata": {},
   "outputs": [
    {
     "data": {
      "text/plain": [
       "combined_shot_type#Dunk                 0.289627\n",
       "shot_distance                           0.201578\n",
       "combined_shot_type#Jump Shot            0.167059\n",
       "shot_zone_area#Center(C)                0.120087\n",
       "combined_shot_type#Layup                0.088109\n",
       "total_seconds_remaining                 0.052467\n",
       "shot_zone_area#Left Side Center(LC)     0.024179\n",
       "shot_zone_area#Right Side Center(RC)    0.007388\n",
       "period#4                                0.006008\n",
       "season#2015-16                          0.005249\n",
       "combined_shot_type#Tip Shot             0.003963\n",
       "season#1997-98                          0.002754\n",
       "home                                    0.002278\n",
       "shot_zone_area#Left Side(L)             0.002070\n",
       "month#12                                0.002054\n",
       "season#2000-01                          0.001881\n",
       "month#04                                0.001509\n",
       "season#2006-07                          0.001499\n",
       "season#2005-06                          0.001377\n",
       "season#2008-09                          0.001341\n",
       "season#2014-15                          0.001258\n",
       "season#1999-00                          0.001125\n",
       "season#2010-11                          0.001096\n",
       "season#2003-04                          0.001012\n",
       "season#2009-10                          0.000964\n",
       "period#5                                0.000912\n",
       "season#2012-13                          0.000872\n",
       "period#2                                0.000822\n",
       "month#05                                0.000792\n",
       "shot_zone_area#Right Side(R)            0.000780\n",
       "season#1998-99                          0.000730\n",
       "month#03                                0.000708\n",
       "month#02                                0.000675\n",
       "combined_shot_type#Hook Shot            0.000614\n",
       "season#2013-14                          0.000596\n",
       "playoffs                                0.000584\n",
       "season#2011-12                          0.000570\n",
       "season#2002-03                          0.000552\n",
       "season#2007-08                          0.000484\n",
       "month#10                                0.000478\n",
       "period#3                                0.000451\n",
       "month#11                                0.000375\n",
       "season#2004-05                          0.000364\n",
       "month#06                                0.000289\n",
       "season#2001-02                          0.000229\n",
       "period#6                                0.000191\n",
       "period#7                                0.000000\n",
       "dtype: float64"
      ]
     },
     "execution_count": 103,
     "metadata": {},
     "output_type": "execute_result"
    }
   ],
   "source": [
    "features = list(dataset.drop('shot_made_flag', axis=1))\n",
    "feature_imp = pd.Series(clf.feature_importances_,index=features).sort_values(ascending=False)\n",
    "feature_imp"
   ]
  },
  {
   "cell_type": "code",
   "execution_count": null,
   "metadata": {},
   "outputs": [],
   "source": []
  }
 ],
 "metadata": {
  "kernelspec": {
   "display_name": "Python 3",
   "language": "python",
   "name": "python3"
  }
 },
 "nbformat": 4,
 "nbformat_minor": 2
}
