{
 "cells": [
  {
   "cell_type": "markdown",
   "metadata": {},
   "source": [
    "Final Project Check-in 2018-11-16\n",
    "------"
   ]
  },
  {
   "cell_type": "markdown",
   "metadata": {},
   "source": [
    "Group Name\n",
    "-----"
   ]
  },
  {
   "cell_type": "markdown",
   "metadata": {},
   "source": [
    " "
   ]
  },
  {
   "cell_type": "markdown",
   "metadata": {},
   "source": [
    "Student Names\n",
    "----"
   ]
  },
  {
   "cell_type": "markdown",
   "metadata": {},
   "source": [
    "1. \n",
    "2. \n",
    "3. \n",
    "4.  \n",
    "5. "
   ]
  },
  {
   "cell_type": "markdown",
   "metadata": {},
   "source": [
    "Load Data\n",
    "-----"
   ]
  },
  {
   "cell_type": "code",
   "execution_count": 4,
   "metadata": {},
   "outputs": [],
   "source": [
    "import warnings\n",
    "warnings.filterwarnings('ignore')\n",
    "import pandas as pd\n",
    "import numpy as np\n",
    "data = pd.read_csv('~/desktop/finalproject/data.csv')\n",
    "data = data[data.shot_made_flag.notnull()].reset_index()\n",
    "\n",
    "features = ['combined_shot_type', 'period', 'playoffs', 'seconds_remaining', 'minutes_remaining', 'season',\n",
    "          'shot_distance', 'shot_made_flag', 'shot_zone_area', 'game_date', 'matchup']\n",
    "\n",
    "dataset = data[features]\n",
    "dataset['total_seconds_remaining'] = 60*dataset['minutes_remaining'] + dataset['seconds_remaining']\n",
    "dataset.drop('minutes_remaining', axis=1, inplace=True)\n",
    "dataset.drop('seconds_remaining', axis=1, inplace=True)\n",
    "dataset['month'] = dataset['game_date'].map(lambda x: x.split('-')[1])\n",
    "dataset.drop('game_date', axis=1, inplace=True)\n",
    "dataset['home'] = dataset['matchup'].str.contains('vs').astype('int')\n",
    "dataset.drop('matchup', axis=1, inplace=True)\n",
    "dataset[\"combined_shot_type\"] = dataset[\"combined_shot_type\"].astype('category')\n",
    "dataset[\"period\"] = dataset[\"period\"].astype('category')\n",
    "dataset[\"playoffs\"] = dataset[\"playoffs\"].astype('category')\n",
    "dataset[\"season\"] = dataset[\"season\"].astype('category')\n",
    "dataset[\"shot_made_flag\"] = dataset[\"shot_made_flag\"].astype('category')\n",
    "dataset[\"month\"] = dataset[\"month\"].astype('category')\n",
    "dataset[\"home\"] = dataset[\"home\"].astype('category')\n",
    "multi_categorical_features = ['combined_shot_type', 'period', 'season', 'month', 'shot_zone_area']\n",
    "\n",
    "for c in multi_categorical_features:\n",
    "    dummies = pd.get_dummies(dataset[c], drop_first=True)\n",
    "    dummies = dummies.add_prefix(\"{}#\".format(c))\n",
    "    dataset.drop(c, axis=1, inplace=True)\n",
    "    dataset = dataset.join(dummies)"
   ]
  },
  {
   "cell_type": "markdown",
   "metadata": {},
   "source": [
    "Fit scikit-learn model\n",
    "----"
   ]
  },
  {
   "cell_type": "code",
   "execution_count": 8,
   "metadata": {},
   "outputs": [
    {
     "data": {
      "text/plain": [
       "DecisionTreeClassifier(class_weight=None, criterion='entropy', max_depth=None,\n",
       "            max_features=None, max_leaf_nodes=10,\n",
       "            min_impurity_decrease=0.0, min_impurity_split=None,\n",
       "            min_samples_leaf=1, min_samples_split=2,\n",
       "            min_weight_fraction_leaf=0.0, presort=False, random_state=42,\n",
       "            splitter='best')"
      ]
     },
     "execution_count": 8,
     "metadata": {},
     "output_type": "execute_result"
    }
   ],
   "source": [
    "from sklearn.model_selection import train_test_split\n",
    "from sklearn.tree import DecisionTreeClassifier\n",
    "from sklearn.ensemble import RandomForestClassifier\n",
    "from sklearn.metrics import accuracy_score\n",
    "from sklearn.metrics import log_loss\n",
    "\n",
    "\n",
    "X = dataset.loc[:, dataset.columns != 'shot_made_flag']\n",
    "Y = dataset['shot_made_flag']\n",
    "X_train, X_test, Y_train, Y_test = train_test_split(X, Y, random_state=42)\n",
    "\n",
    "max_leaf_nodes = 10\n",
    "dt = DecisionTreeClassifier(max_leaf_nodes=max_leaf_nodes,\n",
    "                            criterion='entropy',\n",
    "                            random_state=42)\n",
    "dt.fit(X_train, Y_train)\n"
   ]
  },
  {
   "cell_type": "markdown",
   "metadata": {},
   "source": [
    "Evaluation Metric\n",
    "----"
   ]
  },
  {
   "cell_type": "code",
   "execution_count": 13,
   "metadata": {},
   "outputs": [
    {
     "name": "stdout",
     "output_type": "stream",
     "text": [
      "Decision tree with 19 nodes\n",
      "Accuracy: 0.652\n"
     ]
    }
   ],
   "source": [
    "node_count = dt.tree_.node_count\n",
    "predicted = dt.predict(X_test)\n",
    "print(f'Decision tree with {node_count} nodes')\n",
    "print(f\"Accuracy: {log_loss(Y_test, dt.predict_proba(X_test)):.3f}\")"
   ]
  }
 ],
 "metadata": {
  "kernelspec": {
   "display_name": "Python 3",
   "language": "python",
   "name": "python3"
  },
  "language_info": {
   "codemirror_mode": {
    "name": "ipython",
    "version": 3
   },
   "file_extension": ".py",
   "mimetype": "text/x-python",
   "name": "python",
   "nbconvert_exporter": "python",
   "pygments_lexer": "ipython3",
   "version": "3.6.6"
  }
 },
 "nbformat": 4,
 "nbformat_minor": 2
}
