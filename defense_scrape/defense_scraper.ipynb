{
 "cells": [
  {
   "cell_type": "code",
   "execution_count": 1,
   "metadata": {},
   "outputs": [],
   "source": [
    "from bs4 import BeautifulSoup\n",
    "import urllib.request\n",
    "import time\n",
    "from selenium import webdriver\n",
    "import csv\n",
    "# from urllib.request import Request, urlopen"
   ]
  },
  {
   "cell_type": "code",
   "execution_count": 2,
   "metadata": {},
   "outputs": [],
   "source": [
    "def html_sucker(url, output_file):\n",
    "    \"\"\"Takes a url and grabs the html with selenium and writes to output_file\"\"\"\n",
    "    driver = webdriver.Chrome('/usr/local/bin/chromedriver')\n",
    "    driver.get(url)\n",
    "    html = driver.find_element_by_tag_name('html').get_attribute('innerHTML')\n",
    "    driver.quit()\n",
    "    with open(output_file, 'w') as f:\n",
    "        f.write(f\"{html}\")"
   ]
  },
  {
   "cell_type": "code",
   "execution_count": null,
   "metadata": {},
   "outputs": [],
   "source": [
    "# url = 'https://stats.nba.com/teams/defense/?sort=DEF_RATING&dir=-1&Season=2001-02&SeasonType=Regular%20Season'"
   ]
  },
  {
   "cell_type": "code",
   "execution_count": null,
   "metadata": {},
   "outputs": [],
   "source": [
    "# html_sucker(url, 'html/test')"
   ]
  },
  {
   "cell_type": "code",
   "execution_count": 5,
   "metadata": {},
   "outputs": [
    {
     "name": "stdout",
     "output_type": "stream",
     "text": [
      "html/1996-97.html\n",
      "html/1997-98.html\n",
      "html/1998-99.html\n",
      "html/1999-00.html\n",
      "html/2000-01.html\n",
      "html/2001-02.html\n",
      "html/2002-03.html\n",
      "html/2003-04.html\n",
      "html/2004-05.html\n",
      "html/2005-06.html\n",
      "html/2006-07.html\n",
      "html/2007-08.html\n",
      "html/2008-09.html\n",
      "html/2009-10.html\n",
      "html/2010-11.html\n",
      "html/2011-12.html\n",
      "html/2012-13.html\n",
      "html/2013-14.html\n",
      "html/2014-15.html\n",
      "html/2015-16.html\n"
     ]
    }
   ],
   "source": [
    "with open('defense_urls.csv', 'r') as f:\n",
    "    for row in f:\n",
    "        output_file = f\"html/{row.split('Season=')[1].split('&')[0]}.html\"\n",
    "        print(output_file)\n",
    "        html_sucker(row, output_file)"
   ]
  },
  {
   "cell_type": "code",
   "execution_count": null,
   "metadata": {},
   "outputs": [],
   "source": []
  }
 ],
 "metadata": {
  "kernelspec": {
   "display_name": "Python 3",
   "language": "python",
   "name": "python3"
  },
  "language_info": {
   "codemirror_mode": {
    "name": "ipython",
    "version": 3
   },
   "file_extension": ".py",
   "mimetype": "text/x-python",
   "name": "python",
   "nbconvert_exporter": "python",
   "pygments_lexer": "ipython3",
   "version": "3.6.5"
  }
 },
 "nbformat": 4,
 "nbformat_minor": 2
}
