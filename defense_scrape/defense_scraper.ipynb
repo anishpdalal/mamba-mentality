{
 "cells": [
  {
   "cell_type": "code",
   "execution_count": 17,
   "metadata": {},
   "outputs": [],
   "source": [
    "from bs4 import BeautifulSoup\n",
    "import urllib.request\n",
    "import time\n",
    "from selenium import webdriver\n",
    "import csv\n",
    "import pandas as pd\n",
    "import csv\n",
    "import os\n",
    "# from urllib.request import Request, urlopen"
   ]
  },
  {
   "cell_type": "code",
   "execution_count": 2,
   "metadata": {},
   "outputs": [],
   "source": [
    "def html_sucker(url, output_file):\n",
    "    \"\"\"Takes a url and grabs the html with selenium and writes to output_file\"\"\"\n",
    "    driver = webdriver.Chrome('/usr/local/bin/chromedriver')\n",
    "    driver.get(url)\n",
    "    html = driver.find_element_by_tag_name('html').get_attribute('innerHTML')\n",
    "    driver.quit()\n",
    "    with open(output_file, 'w') as f:\n",
    "        f.write(f\"{html}\")"
   ]
  },
  {
   "cell_type": "code",
   "execution_count": 26,
   "metadata": {},
   "outputs": [],
   "source": [
    "html_sucker('https://stats.nba.com/teams/defense/?sort=DEF_RATING&dir=-1&Season=2006-07&SeasonType=Regular%20Season',\n",
    "            'HEYTHISISATEST.html')"
   ]
  },
  {
   "cell_type": "code",
   "execution_count": 3,
   "metadata": {},
   "outputs": [],
   "source": [
    "# This block runs the selenium code to collect all the html\n",
    "\n",
    "# with open('defense_urls.csv', 'r') as f:\n",
    "#     for row in f:\n",
    "#         output_file = f\"html/{row.split('Season=')[1].split('&')[0]}.html\"\n",
    "#         html_sucker(row, output_file)"
   ]
  },
  {
   "cell_type": "code",
   "execution_count": 25,
   "metadata": {},
   "outputs": [
    {
     "name": "stdout",
     "output_type": "stream",
     "text": [
      "1997-98.html\n",
      "2004-05.html\n",
      "2010-11.html\n",
      "2009-10.html\n",
      "2000-01.html\n",
      "2014-15.html\n",
      "2007-08.html\n",
      "1998-99.html\n",
      "2015-16.html\n",
      "2001-02.html\n",
      "1999-00.html\n",
      "2003-04.html\n",
      "2012-13.html\n",
      "2006-07.html\n"
     ]
    },
    {
     "ename": "IndexError",
     "evalue": "list index out of range",
     "output_type": "error",
     "traceback": [
      "\u001b[0;31m---------------------------------------------------------------------------\u001b[0m",
      "\u001b[0;31mIndexError\u001b[0m                                Traceback (most recent call last)",
      "\u001b[0;32m<ipython-input-25-bd7d90ce6bac>\u001b[0m in \u001b[0;36m<module>\u001b[0;34m\u001b[0m\n\u001b[1;32m      5\u001b[0m             \u001b[0msoup\u001b[0m \u001b[0;34m=\u001b[0m \u001b[0mBeautifulSoup\u001b[0m\u001b[0;34m(\u001b[0m\u001b[0mf\u001b[0m\u001b[0;34m,\u001b[0m \u001b[0;34m'html.parser'\u001b[0m\u001b[0;34m,\u001b[0m \u001b[0mfrom_encoding\u001b[0m\u001b[0;34m=\u001b[0m\u001b[0;34m'utf-8'\u001b[0m\u001b[0;34m)\u001b[0m\u001b[0;34m\u001b[0m\u001b[0m\n\u001b[1;32m      6\u001b[0m             \u001b[0mprint\u001b[0m\u001b[0;34m(\u001b[0m\u001b[0mfile\u001b[0m\u001b[0;34m)\u001b[0m\u001b[0;34m\u001b[0m\u001b[0m\n\u001b[0;32m----> 7\u001b[0;31m             \u001b[0mtable\u001b[0m \u001b[0;34m=\u001b[0m \u001b[0msoup\u001b[0m\u001b[0;34m.\u001b[0m\u001b[0mfind_all\u001b[0m\u001b[0;34m(\u001b[0m\u001b[0;34m'table'\u001b[0m\u001b[0;34m)\u001b[0m\u001b[0;34m[\u001b[0m\u001b[0;36m0\u001b[0m\u001b[0;34m]\u001b[0m\u001b[0;34m\u001b[0m\u001b[0m\n\u001b[0m\u001b[1;32m      8\u001b[0m             \u001b[0mheaders\u001b[0m \u001b[0;34m=\u001b[0m \u001b[0;34m[\u001b[0m\u001b[0mth\u001b[0m\u001b[0;34m.\u001b[0m\u001b[0mtext\u001b[0m \u001b[0;32mfor\u001b[0m \u001b[0mth\u001b[0m \u001b[0;32min\u001b[0m \u001b[0mtable\u001b[0m\u001b[0;34m.\u001b[0m\u001b[0mselect\u001b[0m\u001b[0;34m(\u001b[0m\u001b[0;34m\"tr th\"\u001b[0m\u001b[0;34m)\u001b[0m\u001b[0;34m]\u001b[0m\u001b[0;34m\u001b[0m\u001b[0m\n\u001b[1;32m      9\u001b[0m \u001b[0;34m\u001b[0m\u001b[0m\n",
      "\u001b[0;31mIndexError\u001b[0m: list index out of range"
     ]
    }
   ],
   "source": [
    "for file in os.listdir('html'):\n",
    "    if not file.startswith('.'):\n",
    "        years = file.split('.')[0]\n",
    "        with open(f'html/{years}.html', 'r') as f:\n",
    "            soup = BeautifulSoup(f, 'html.parser', from_encoding='utf-8')\n",
    "            print(file)\n",
    "            table = soup.find_all('table')[0]\n",
    "            headers = [th.text for th in table.select(\"tr th\")]\n",
    "\n",
    "        with open(f'csv/{years}.csv', 'w') as f:\n",
    "            wr = csv.writer(f)\n",
    "            wr.writerow(headers)\n",
    "            wr.writerows([[td.text for td in row.find_all(\"td\")] for row in table.select(\"tr + tr\")])"
   ]
  },
  {
   "cell_type": "code",
   "execution_count": null,
   "metadata": {},
   "outputs": [],
   "source": []
  }
 ],
 "metadata": {
  "kernelspec": {
   "display_name": "Python 3",
   "language": "python",
   "name": "python3"
  },
  "language_info": {
   "codemirror_mode": {
    "name": "ipython",
    "version": 3
   },
   "file_extension": ".py",
   "mimetype": "text/x-python",
   "name": "python",
   "nbconvert_exporter": "python",
   "pygments_lexer": "ipython3",
   "version": "3.6.5"
  }
 },
 "nbformat": 4,
 "nbformat_minor": 2
}
