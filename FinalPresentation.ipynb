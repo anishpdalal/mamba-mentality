{
 "cells": [
  {
   "cell_type": "markdown",
   "metadata": {
    "slideshow": {
     "slide_type": "slide"
    }
   },
   "source": [
    "# The Black Mamba from The Random Forest\n",
    "\n",
    "### Anish Dalal, Chris Olley, Connor Swanson, Jon-Ross Presta & Sankeerti Haniyur"
   ]
  },
  {
   "cell_type": "markdown",
   "metadata": {
    "slideshow": {
     "slide_type": "slide"
    }
   },
   "source": [
    "# Kobe Bryant\n",
    "\n",
    "- Basketball player from 1996-2016"
   ]
  },
  {
   "cell_type": "markdown",
   "metadata": {
    "slideshow": {
     "slide_type": "subslide"
    }
   },
   "source": [
    "- 18x NBA All-Star, 5x NBA Champion, 2x NBA Finals MVP\n",
    "- Pretty decent at basketball "
   ]
  },
  {
   "cell_type": "markdown",
   "metadata": {},
   "source": [
    "<center><img src=\"images/Kobe_rings.jpg\" width=\"50%\"></center>"
   ]
  },
  {
   "cell_type": "markdown",
   "metadata": {
    "slideshow": {
     "slide_type": "slide"
    }
   },
   "source": [
    "# Kobe doesn't care about your statistics"
   ]
  },
  {
   "cell_type": "markdown",
   "metadata": {
    "slideshow": {
     "slide_type": "fragment"
    }
   },
   "source": [
    "- March 31st, 2012 vs New Orleans Hornets"
   ]
  },
  {
   "cell_type": "markdown",
   "metadata": {
    "slideshow": {
     "slide_type": "fragment"
    }
   },
   "source": [
    "- Kobe starts off 0/16 and doesn't even score until 7 minutes left"
   ]
  },
  {
   "cell_type": "markdown",
   "metadata": {
    "slideshow": {
     "slide_type": "fragment"
    }
   },
   "source": [
    "- Still hits a 25 ft game-winner without hesitation"
   ]
  },
  {
   "cell_type": "markdown",
   "metadata": {
    "slideshow": {
     "slide_type": "slide"
    }
   },
   "source": [
    "<center><img src=\"images/Kobe_shrug.jpg\" width=\"50%\"></center>"
   ]
  },
  {
   "cell_type": "markdown",
   "metadata": {},
   "source": [
    "\"If somebody had their life on the line, and they’ve got their options on who they want to save their life – tell me who you’re going to pick? You’re going to look at the stats first?”\n",
    "\n",
    "-- Kobe"
   ]
  },
  {
   "cell_type": "markdown",
   "metadata": {
    "slideshow": {
     "slide_type": "slide"
    }
   },
   "source": [
    "# The Objective\n",
    "\n",
    "- Machine Learn a function to predict shot success that generalizes well"
   ]
  },
  {
   "cell_type": "markdown",
   "metadata": {
    "slideshow": {
     "slide_type": "subslide"
    }
   },
   "source": [
    "<center><img src=\"images/Kobe_face.jpg\" width=\"65%\"></center>"
   ]
  },
  {
   "cell_type": "markdown",
   "metadata": {
    "slideshow": {
     "slide_type": "slide"
    }
   },
   "source": [
    "# The Data\n",
    "\n",
    "- Kaggle Dataset: Kobe Bryant Shot Selection\n",
    "- Data is a complete record of every shot taken in Kobe's career"
   ]
  },
  {
   "cell_type": "markdown",
   "metadata": {
    "slideshow": {
     "slide_type": "subslide"
    }
   },
   "source": [
    "# The Data (Cont.)\n",
    "\n",
    "- Each row is a shot from Kobe's career, including information like \n",
    "    - Shot type \n",
    "    - Shot distance\n",
    "    - Opponent\n",
    "    - Time shot was taken\n",
    "    - Whether or not he made the shot"
   ]
  },
  {
   "cell_type": "markdown",
   "metadata": {
    "slideshow": {
     "slide_type": "subslide"
    }
   },
   "source": [
    "# Shot Success and Type Based on Court Location"
   ]
  },
  {
   "cell_type": "markdown",
   "metadata": {
    "slideshow": {
     "slide_type": "subslide"
    }
   },
   "source": [
    "<center><img src=\"presentation_graphs/red_bois.png\" width=\"80%\"></center>"
   ]
  },
  {
   "cell_type": "markdown",
   "metadata": {
    "slideshow": {
     "slide_type": "subslide"
    }
   },
   "source": [
    "# Change in Shot Distance after Shot Taken"
   ]
  },
  {
   "cell_type": "markdown",
   "metadata": {
    "slideshow": {
     "slide_type": "subslide"
    }
   },
   "source": [
    "<center><img src=\"presentation_graphs/post_shot.png\" width=\"75%\"></center>"
   ]
  },
  {
   "cell_type": "markdown",
   "metadata": {
    "slideshow": {
     "slide_type": "slide"
    }
   },
   "source": [
    "# Data Processing\n",
    "\n",
    "- Dummyized all categorical variables\n",
    "- Removed rows with null shot outcome\n",
    "    - Believe it was a shot when he was fouled, NBA dones't count as shot attempt\n",
    "- Pretty clean, thanks Kaggle!"
   ]
  },
  {
   "cell_type": "markdown",
   "metadata": {
    "slideshow": {
     "slide_type": "slide"
    }
   },
   "source": [
    "# Feature Engineering\n",
    "\n",
    "- Scraped Defensive Ranking and Rating\n",
    "- Hypothesis of most important feature:\n",
    "    - Shot Distance \n",
    "    - Shot Type\n",
    "    - Time Remaining "
   ]
  },
  {
   "cell_type": "markdown",
   "metadata": {
    "slideshow": {
     "slide_type": "slide"
    }
   },
   "source": [
    "# The Model\n",
    "\n",
    "- Considered 3 main models\n",
    "    - Logistic Regression \n",
    "    - Random Forest\n",
    "    - Gradient Boosted Trees\n",
    "- Split data chronologically for training and test \n",
    "- Tuned hyperparameters using CV\n",
    "- Metric: log-loss"
   ]
  },
  {
   "cell_type": "markdown",
   "metadata": {
    "slideshow": {
     "slide_type": "slide"
    }
   },
   "source": [
    "# Log-Loss\n",
    "\n",
    "$Logloss = - \\frac{1}{n} \\Sigma_{i=1}^{n}(y_{i}log(\\hat{y_{i}}) + (1 - y_{i})log(1 - \\hat{y_{i}}))$"
   ]
  },
  {
   "cell_type": "markdown",
   "metadata": {
    "slideshow": {
     "slide_type": "slide"
    }
   },
   "source": [
    "# Model Evaluation"
   ]
  },
  {
   "cell_type": "markdown",
   "metadata": {
    "slideshow": {
     "slide_type": "subslide"
    }
   },
   "source": [
    "<center><img src=\"presentation_graphs/model_perform.png\" width=\"65%\"></center>"
   ]
  },
  {
   "cell_type": "markdown",
   "metadata": {
    "slideshow": {
     "slide_type": "slide"
    }
   },
   "source": [
    "# Model #1: Random Forest\n",
    "\n",
    "- Wanted to optimize the maximum tree depth\n",
    "- No extra feature engineering (eg. scaling, normalizing, etc.) was required"
   ]
  },
  {
   "cell_type": "markdown",
   "metadata": {
    "slideshow": {
     "slide_type": "subslide"
    }
   },
   "source": [
    "# Preventing Overfitting"
   ]
  },
  {
   "cell_type": "markdown",
   "metadata": {
    "slideshow": {
     "slide_type": "subslide"
    }
   },
   "source": [
    "<center><img src=\"presentation_graphs/rf_regular.png\" width=\"45%\"></center>"
   ]
  },
  {
   "cell_type": "markdown",
   "metadata": {
    "slideshow": {
     "slide_type": "slide"
    }
   },
   "source": [
    "# Evaluation of Random Forest\n",
    "\n",
    "Mean Log-Loss = 0.6116"
   ]
  },
  {
   "cell_type": "markdown",
   "metadata": {
    "slideshow": {
     "slide_type": "slide"
    }
   },
   "source": [
    "# Feature Importance\n",
    "\n",
    "- Random Forest determines the most important features:\n",
    "    - Action Type\n",
    "    - Shot Distance\n",
    "    - Opponent's Defensive Ranking"
   ]
  },
  {
   "cell_type": "markdown",
   "metadata": {
    "slideshow": {
     "slide_type": "slide"
    }
   },
   "source": [
    "# Model #2: Gradient-Boosted Trees\n",
    "\n",
    "- Decided to explore Boosting Options to improve success\n",
    "- Trains subsequent models on the errors of previous models\n",
    "- Performed Grid Search on 1-2 features at a time\n",
    "\n",
    "Test Log-Loss = 0.6064"
   ]
  },
  {
   "cell_type": "markdown",
   "metadata": {
    "slideshow": {
     "slide_type": "slide"
    }
   },
   "source": [
    "# Winner\n",
    "\n",
    "## Gradient Boosted Trees\n",
    "\n",
    "- Perform well in Kaggle Competitions\n",
    "- Our score places us in the top 30% of competitors according to the public leaderboard"
   ]
  },
  {
   "cell_type": "markdown",
   "metadata": {
    "slideshow": {
     "slide_type": "slide"
    }
   },
   "source": [
    "<center><img src=\"images/Kobe_meme.jpg\" width=\"50%\"></center>"
   ]
  }
 ],
 "metadata": {
  "celltoolbar": "Slideshow",
  "kernelspec": {
   "display_name": "Python 3",
   "language": "python",
   "name": "python3"
  },
  "language_info": {
   "codemirror_mode": {
    "name": "ipython",
    "version": 3
   },
   "file_extension": ".py",
   "mimetype": "text/x-python",
   "name": "python",
   "nbconvert_exporter": "python",
   "pygments_lexer": "ipython3",
   "version": "3.6.6"
  }
 },
 "nbformat": 4,
 "nbformat_minor": 2
}
