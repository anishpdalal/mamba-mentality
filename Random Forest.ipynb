{
 "cells": [
  {
   "cell_type": "code",
   "execution_count": 1,
   "metadata": {},
   "outputs": [],
   "source": [
    "import warnings\n",
    "warnings.filterwarnings('ignore')\n",
    "import pandas as pd\n",
    "import numpy as np\n",
    "from sklearn.preprocessing import RobustScaler\n",
    "from sklearn.model_selection import train_test_split, cross_val_score, KFold, GridSearchCV, cross_validate\n",
    "from sklearn.tree import DecisionTreeClassifier\n",
    "from sklearn.ensemble import RandomForestClassifier\n",
    "from sklearn.svm import SVC\n",
    "from sklearn.metrics import accuracy_score, log_loss\n",
    "from sklearn.pipeline import Pipeline\n",
    "from sklearn.decomposition import PCA\n",
    "import matplotlib.pyplot as plt"
   ]
  },
  {
   "cell_type": "code",
   "execution_count": 14,
   "metadata": {},
   "outputs": [],
   "source": [
    "data = pd.read_csv('~/data/kobe/data.csv')\n",
    "data = data[data.shot_made_flag.notnull()].reset_index()"
   ]
  },
  {
   "cell_type": "code",
   "execution_count": 15,
   "metadata": {},
   "outputs": [],
   "source": [
    "data['opponent'] = data.apply(lambda row: 'NOH' if row['season'] == '2004-05' and row['opponent'] == 'NOP' else row['opponent'], axis=1)"
   ]
  },
  {
   "cell_type": "code",
   "execution_count": 16,
   "metadata": {},
   "outputs": [],
   "source": [
    "defense = pd.read_pickle('./defense_scrape/defense.pkl')\n",
    "data = data.merge(defense, left_on=['opponent', 'season'], right_on=['Team_Abb', 'Season'], how='left')"
   ]
  },
  {
   "cell_type": "code",
   "execution_count": 5,
   "metadata": {},
   "outputs": [],
   "source": [
    "def evaluateModel(model):\n",
    "    print(f'Test Accuracy: {model.score(X_test, y_test):.4f}')\n",
    "    print(f'Test Log-Loss: {log_loss(y_test, model.predict_proba(X_test)):.4f}')\n",
    "    print(f'Training Accuracy: {model.score(X_train, y_train):.4f}')"
   ]
  },
  {
   "cell_type": "code",
   "execution_count": 6,
   "metadata": {},
   "outputs": [],
   "source": [
    "def featureImportance(model):\n",
    "    feature_importance = list(zip(list(X),model.feature_importances_))\n",
    "    feature_importance.sort(key=lambda x: x[1], reverse=True)\n",
    "    for f in feature_importance:\n",
    "        print(f'{f[0]}: {f[1]}')"
   ]
  },
  {
   "cell_type": "markdown",
   "metadata": {},
   "source": [
    "# Model 1: Random Forest"
   ]
  },
  {
   "cell_type": "code",
   "execution_count": 7,
   "metadata": {},
   "outputs": [],
   "source": [
    "features = ['period', 'playoffs', 'seconds_remaining', 'minutes_remaining', 'season',\n",
    "            'shot_distance', 'shot_made_flag', 'shot_zone_area', 'game_date', 'matchup', \n",
    "            'action_type', 'Def_Rtg']\n",
    "\n",
    "dataset = data[features]\n",
    "dataset['total_seconds_remaining'] = 60*dataset['minutes_remaining'] + dataset['seconds_remaining']\n",
    "dataset.drop('minutes_remaining', axis=1, inplace=True)\n",
    "dataset.drop('seconds_remaining', axis=1, inplace=True)\n",
    "dataset['month'] = dataset['game_date'].map(lambda x: x.split('-')[1])\n",
    "dataset.drop('game_date', axis=1, inplace=True)\n",
    "dataset['home'] = dataset['matchup'].str.contains('vs').astype('int')\n",
    "dataset.drop('matchup', axis=1, inplace=True)\n",
    "dataset[\"action_type\"] = dataset[\"action_type\"].astype('category')\n",
    "dataset[\"period\"] = dataset[\"period\"].astype('category')\n",
    "dataset[\"playoffs\"] = dataset[\"playoffs\"].astype('category')\n",
    "dataset[\"season\"] = dataset[\"season\"].astype('category')\n",
    "dataset[\"shot_made_flag\"] = dataset[\"shot_made_flag\"].astype('category')\n",
    "dataset[\"month\"] = dataset[\"month\"].astype('category')\n",
    "dataset[\"home\"] = dataset[\"home\"].astype('category')\n",
    "multi_categorical_features = ['action_type', 'period', 'season', 'month', 'shot_zone_area']\n",
    "numerical_features = ['total_seconds_remaining', 'shot_distance']\n",
    "for c in multi_categorical_features:\n",
    "    dummies = pd.get_dummies(dataset[c], drop_first=True)\n",
    "    dummies = dummies.add_prefix(\"{}#\".format(c))\n",
    "    dataset.drop(c, axis=1, inplace=True)\n",
    "    dataset = dataset.join(dummies)\n",
    "\n",
    "X = dataset.loc[:, dataset.columns != 'shot_made_flag']\n",
    "y = dataset['shot_made_flag']\n",
    "X_train, X_test, y_train, y_test = train_test_split(X, y)"
   ]
  },
  {
   "cell_type": "code",
   "execution_count": null,
   "metadata": {},
   "outputs": [],
   "source": [
    "rf = RandomForestClassifier(n_estimators=200)\n",
    "grid_params = {'criterion':['entropy'],\n",
    "               'min_samples_leaf':np.arange(1,20,2)\n",
    "              }\n",
    "gs = GridSearchCV(estimator=rf,  \n",
    "                  param_grid=grid_params,\n",
    "                  scoring='accuracy',\n",
    "                  cv=5)\n",
    "gs.fit(X_train, y_train)\n",
    "evaluateModel(gs)\n",
    "print(f\"{gs.best_estimator_}\")"
   ]
  },
  {
   "cell_type": "code",
   "execution_count": 8,
   "metadata": {},
   "outputs": [
    {
     "name": "stdout",
     "output_type": "stream",
     "text": [
      "Test Accuracy: 0.6828\n",
      "Test Log-Loss: 0.6041\n",
      "Training Accuracy: 0.6919\n"
     ]
    }
   ],
   "source": [
    "rf = RandomForestClassifier(n_estimators=200, criterion='entropy', min_samples_leaf=9, n_jobs=-1)\n",
    "rf.fit(X_train, y_train)\n",
    "evaluateModel(rf)"
   ]
  },
  {
   "cell_type": "code",
   "execution_count": 9,
   "metadata": {},
   "outputs": [
    {
     "name": "stdout",
     "output_type": "stream",
     "text": [
      "action_type#Jump Shot: 0.20321609616706618\n",
      "shot_distance: 0.11386497150736619\n",
      "total_seconds_remaining: 0.09808161877169297\n",
      "Def_Rtg: 0.0713623545510819\n",
      "action_type#Layup Shot: 0.06322626656186299\n",
      "action_type#Driving Layup Shot: 0.040674853837919314\n",
      "action_type#Slam Dunk Shot: 0.0404806981767149\n",
      "action_type#Driving Dunk Shot: 0.027660960536047174\n",
      "action_type#Running Jump Shot: 0.026297858772428427\n",
      "shot_zone_area#Center(C): 0.023899622569859006\n",
      "home: 0.022536499560403572\n",
      "action_type#Jump Bank Shot: 0.013109615641394798\n",
      "action_type#Pullup Jump shot: 0.011633334524438715\n",
      "action_type#Turnaround Jump Shot: 0.010572874092785102\n",
      "period#3: 0.010108278050669247\n",
      "period#4: 0.00959713473749828\n",
      "period#2: 0.008327973357111001\n",
      "month#03: 0.007883921737501255\n",
      "month#12: 0.007740404651344641\n",
      "shot_zone_area#Left Side Center(LC): 0.007717783551751834\n",
      "action_type#Tip Shot: 0.007517934178274926\n",
      "month#11: 0.007074557682235372\n",
      "month#02: 0.006854373460821547\n",
      "action_type#Fadeaway Jump Shot: 0.0067135690355228615\n",
      "season#2015-16: 0.0064525913540263834\n",
      "shot_zone_area#Right Side Center(RC): 0.006134323254362981\n",
      "season#2000-01: 0.00591173471312345\n",
      "month#04: 0.005875599594501831\n",
      "season#2011-12: 0.0057143948367712515\n",
      "shot_zone_area#Right Side(R): 0.005705385210321311\n",
      "shot_zone_area#Left Side(L): 0.005695525619861331\n",
      "playoffs: 0.005543325105513682\n",
      "season#2005-06: 0.005533951191369051\n",
      "action_type#Dunk Shot: 0.0054500225479694785\n",
      "season#2002-03: 0.0051024574429496695\n",
      "season#2009-10: 0.005018849880699615\n",
      "season#2007-08: 0.0049837164785481195\n",
      "season#2006-07: 0.004842979297802049\n",
      "action_type#Driving Slam Dunk Shot: 0.004809642845716027\n",
      "season#2008-09: 0.0045474684282462525\n",
      "season#2010-11: 0.004316885093106534\n",
      "season#1999-00: 0.0042891136044357365\n",
      "season#2012-13: 0.00405766998932778\n",
      "month#05: 0.003936020326454435\n",
      "season#2001-02: 0.003623991388892584\n",
      "season#2003-04: 0.0036130499233340925\n",
      "action_type#Reverse Dunk Shot: 0.003582554224729609\n",
      "season#2004-05: 0.0034298152615226197\n",
      "action_type#Reverse Layup Shot: 0.003268043168235428\n",
      "season#2014-15: 0.003165391572253231\n",
      "action_type#Turnaround Fadeaway shot: 0.002947340880173539\n",
      "month#06: 0.002931757863881318\n",
      "season#1997-98: 0.0029011631160354616\n",
      "action_type#Driving Finger Roll Shot: 0.0026889034241133064\n",
      "season#1998-99: 0.0025742386684267744\n",
      "action_type#Turnaround Bank shot: 0.0025146336657183173\n",
      "action_type#Hook Shot: 0.002027914593091503\n",
      "action_type#Driving Finger Roll Layup Shot: 0.001607671522399889\n",
      "action_type#Driving Reverse Layup Shot: 0.0013473675805729985\n",
      "action_type#Floating Jump shot: 0.0012730930174022054\n",
      "action_type#Running Bank shot: 0.0011089617567804\n",
      "month#10: 0.0009918959336301528\n",
      "action_type#Running Hook Shot: 0.0008154053211465391\n",
      "period#5: 0.0007847648424011361\n",
      "action_type#Step Back Jump shot: 0.0006173231537770701\n",
      "action_type#Alley Oop Layup shot: 0.0004509283730913913\n",
      "action_type#Running Layup Shot: 0.00040605581455754685\n",
      "action_type#Fadeaway Bank shot: 0.00037435181194371754\n",
      "action_type#Finger Roll Layup Shot: 0.0002454376709963385\n",
      "action_type#Running Dunk Shot: 0.0002402393332964902\n",
      "season#2013-14: 0.00011152493545757658\n",
      "action_type#Jump Hook Shot: 9.556812694481134e-05\n",
      "action_type#Finger Roll Shot: 9.521920938059577e-05\n",
      "action_type#Driving Jump shot: 8.707016672036666e-05\n",
      "period#6: 3.1111501938057918e-06\n",
      "action_type#Cutting Layup Shot: 0.0\n",
      "action_type#Driving Bank shot: 0.0\n",
      "action_type#Driving Floating Bank Jump Shot: 0.0\n",
      "action_type#Driving Floating Jump Shot: 0.0\n",
      "action_type#Driving Hook Shot: 0.0\n",
      "action_type#Follow Up Dunk Shot: 0.0\n",
      "action_type#Hook Bank Shot: 0.0\n",
      "action_type#Pullup Bank shot: 0.0\n",
      "action_type#Putback Dunk Shot: 0.0\n",
      "action_type#Putback Layup Shot: 0.0\n",
      "action_type#Putback Slam Dunk Shot: 0.0\n",
      "action_type#Reverse Slam Dunk Shot: 0.0\n",
      "action_type#Running Finger Roll Layup Shot: 0.0\n",
      "action_type#Running Finger Roll Shot: 0.0\n",
      "action_type#Running Pull-Up Jump Shot: 0.0\n",
      "action_type#Running Reverse Layup Shot: 0.0\n",
      "action_type#Running Slam Dunk Shot: 0.0\n",
      "action_type#Running Tip Shot: 0.0\n",
      "action_type#Tip Layup Shot: 0.0\n",
      "action_type#Turnaround Finger Roll Shot: 0.0\n",
      "action_type#Turnaround Hook Shot: 0.0\n",
      "period#7: 0.0\n"
     ]
    }
   ],
   "source": [
    "featureImportance(rf)"
   ]
  },
  {
   "cell_type": "markdown",
   "metadata": {},
   "source": [
    "# Model 2: Logistic Regression"
   ]
  },
  {
   "cell_type": "code",
   "execution_count": 17,
   "metadata": {},
   "outputs": [],
   "source": [
    "from sklearn.linear_model import LogisticRegression"
   ]
  },
  {
   "cell_type": "code",
   "execution_count": 18,
   "metadata": {},
   "outputs": [],
   "source": [
    "features = ['shot_distance', 'shot_made_flag']\n",
    "X = dataset.loc[:, dataset.columns != 'shot_made_flag']\n",
    "y = dataset['shot_made_flag']\n",
    "X_train, X_test, y_train, y_test = train_test_split(X, y)\n",
    "dataset = data[features]"
   ]
  },
  {
   "cell_type": "code",
   "execution_count": 19,
   "metadata": {},
   "outputs": [
    {
     "name": "stdout",
     "output_type": "stream",
     "text": [
      "Test Accuracy: 0.6118\n",
      "Test Log-Loss: 0.6620\n",
      "Training Accuracy: 0.5928\n"
     ]
    }
   ],
   "source": [
    "lr = LogisticRegression(C=10e4)\n",
    "lr.fit(X_train, y_train)\n",
    "evaluateModel(lr)"
   ]
  },
  {
   "cell_type": "code",
   "execution_count": 20,
   "metadata": {},
   "outputs": [],
   "source": [
    "dist = np.linspace(dataset.shot_distance.min(), dataset.shot_distance.max(), 1000)\n",
    "probs = lr.predict_proba(X=dist.reshape(-1,1))"
   ]
  },
  {
   "cell_type": "code",
   "execution_count": 21,
   "metadata": {},
   "outputs": [],
   "source": [
    "thresh = -lr.intercept_/lr.coef_"
   ]
  },
  {
   "cell_type": "code",
   "execution_count": 22,
   "metadata": {},
   "outputs": [
    {
     "data": {
      "image/png": "[encoded data removed]",
      "text/plain": [
       "<Figure size 720x576 with 1 Axes>"
      ]
     },
     "metadata": {},
     "output_type": "display_data"
    }
   ],
   "source": [
    "fig, ax = plt.subplots(figsize=(10,8))\n",
    "ax.plot(dist, probs[:,1], label='Success', color='blue')\n",
    "ax.plot(dist, probs[:,0], label='Failure', color='red')\n",
    "ax.axvline(x=thresh, linestyle='--', color='black', label=f'50% threshold ({float(thresh):.2f}ft)')\n",
    "ax.set_xlabel('Shot Distance (ft)')\n",
    "ax.set_ylabel('Probability')\n",
    "ax.legend()\n",
    "plt.title('Logistic Regression Shot Success Probability from Shot Distance')\n",
    "plt.show()"
   ]
  },
  {
   "cell_type": "markdown",
   "metadata": {},
   "source": [
    "## Logistic Regression with the full dataset"
   ]
  },
  {
   "cell_type": "code",
   "execution_count": 23,
   "metadata": {},
   "outputs": [],
   "source": [
    "features = ['period', 'playoffs', 'seconds_remaining', 'minutes_remaining', 'season',\n",
    "            'shot_distance', 'shot_made_flag', 'shot_zone_area', 'game_date', 'matchup', \n",
    "            'action_type', 'Def_Rtg']\n",
    "\n",
    "dataset = data[features]\n",
    "dataset['total_seconds_remaining'] = 60*dataset['minutes_remaining'] + dataset['seconds_remaining']\n",
    "dataset.drop('minutes_remaining', axis=1, inplace=True)\n",
    "dataset.drop('seconds_remaining', axis=1, inplace=True)\n",
    "dataset['month'] = dataset['game_date'].map(lambda x: x.split('-')[1])\n",
    "dataset.drop('game_date', axis=1, inplace=True)\n",
    "dataset['home'] = dataset['matchup'].str.contains('vs').astype('int')\n",
    "dataset.drop('matchup', axis=1, inplace=True)\n",
    "dataset[\"action_type\"] = dataset[\"action_type\"].astype('category')\n",
    "dataset[\"period\"] = dataset[\"period\"].astype('category')\n",
    "dataset[\"playoffs\"] = dataset[\"playoffs\"].astype('category')\n",
    "dataset[\"season\"] = dataset[\"season\"].astype('category')\n",
    "dataset[\"shot_made_flag\"] = dataset[\"shot_made_flag\"].astype('category')\n",
    "dataset[\"month\"] = dataset[\"month\"].astype('category')\n",
    "dataset[\"home\"] = dataset[\"home\"].astype('category')\n",
    "multi_categorical_features = ['action_type', 'period', 'season', 'month', 'shot_zone_area']\n",
    "numerical_features = ['total_seconds_remaining', 'shot_distance']\n",
    "for c in multi_categorical_features:\n",
    "    dummies = pd.get_dummies(dataset[c], drop_first=True)\n",
    "    dummies = dummies.add_prefix(\"{}#\".format(c))\n",
    "    dataset.drop(c, axis=1, inplace=True)\n",
    "    dataset = dataset.join(dummies)\n",
    "\n",
    "X = dataset.loc[:, dataset.columns != 'shot_made_flag']\n",
    "y = dataset['shot_made_flag']\n",
    "X_train, X_test, y_train, y_test = train_test_split(X, y)"
   ]
  },
  {
   "cell_type": "code",
   "execution_count": 24,
   "metadata": {},
   "outputs": [
    {
     "name": "stdout",
     "output_type": "stream",
     "text": [
      "Test Accuracy: 0.6819\n",
      "Test Log-Loss: 0.6109\n",
      "Training Accuracy: 0.6832\n"
     ]
    }
   ],
   "source": [
    "lr = LogisticRegression(C=10e4)\n",
    "lr.fit(X_train, y_train)\n",
    "evaluateModel(lr)"
   ]
  },
  {
   "cell_type": "code",
   "execution_count": 25,
   "metadata": {},
   "outputs": [
    {
     "name": "stdout",
     "output_type": "stream",
     "text": [
      "Test Accuracy: 0.6822\n",
      "Test Log-Loss: 0.6103\n",
      "Training Accuracy: 0.6824\n"
     ]
    }
   ],
   "source": [
    "lr = LogisticRegression(C=0.5,penalty='l1')\n",
    "lr.fit(X_train, y_train)\n",
    "evaluateModel(lr)"
   ]
  },
  {
   "cell_type": "code",
   "execution_count": null,
   "metadata": {},
   "outputs": [],
   "source": []
  }
 ],
 "metadata": {
  "kernelspec": {
   "display_name": "Python 3",
   "language": "python",
   "name": "python3"
  },
  "language_info": {
   "codemirror_mode": {
    "name": "ipython",
    "version": 3
   },
   "file_extension": ".py",
   "mimetype": "text/x-python",
   "name": "python",
   "nbconvert_exporter": "python",
   "pygments_lexer": "ipython3",
   "version": "3.6.6"
  }
 },
 "nbformat": 4,
 "nbformat_minor": 2
}
