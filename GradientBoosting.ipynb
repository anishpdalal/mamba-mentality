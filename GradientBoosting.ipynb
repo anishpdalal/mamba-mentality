{
 "cells": [
  {
   "cell_type": "code",
   "execution_count": 1,
   "metadata": {},
   "outputs": [],
   "source": [
    "import warnings\n",
    "warnings.filterwarnings('ignore')\n",
    "import pandas as pd\n",
    "import numpy as np\n",
    "from sklearn.preprocessing import RobustScaler\n",
    "\n",
    "from sklearn.metrics import accuracy_score, log_loss\n",
    "from sklearn.pipeline import Pipeline\n",
    "from sklearn.decomposition import PCA\n",
    "import matplotlib.pyplot as plt\n",
    "from dtreeviz.trees import *"
   ]
  },
  {
   "cell_type": "code",
   "execution_count": 2,
   "metadata": {},
   "outputs": [],
   "source": [
    "data = pd.read_csv('~/desktop/finalproject/data.csv')\n",
    "data = data[data.shot_made_flag.notnull()].reset_index()"
   ]
  },
  {
   "cell_type": "code",
   "execution_count": 3,
   "metadata": {},
   "outputs": [],
   "source": [
    "data['opponent'] = data.apply(lambda row: 'NOH' if row['season'] == '2004-05' and row['opponent'] == 'NOP' else row['opponent'], axis=1)"
   ]
  },
  {
   "cell_type": "code",
   "execution_count": 4,
   "metadata": {},
   "outputs": [],
   "source": [
    "defense = pd.read_pickle('./defense_scrape/defense.pkl')\n",
    "data = data.merge(defense, left_on=['opponent', 'season'], right_on=['Team_Abb', 'Season'], how='left')"
   ]
  },
  {
   "cell_type": "code",
   "execution_count": 5,
   "metadata": {},
   "outputs": [],
   "source": [
    "def evaluateModel(model):\n",
    "    print(f'Test Accuracy: {model.score(X_test, y_test):.4f}')\n",
    "    print(f'Test Log-Loss: {log_loss(y_test, model.predict_proba(X_test)):.4f}')\n",
    "    print(f'Training Accuracy: {model.score(X_train, y_train):.4f}')\n",
    "    \n",
    "def featureImportance(model):\n",
    "    feature_importance = list(zip(list(X),model.feature_importances_))\n",
    "    feature_importance.sort(key=lambda x: x[1], reverse=True)\n",
    "    for f in feature_importance:\n",
    "        print(f'{f[0]}: {f[1]}')"
   ]
  },
  {
   "cell_type": "code",
   "execution_count": 6,
   "metadata": {},
   "outputs": [],
   "source": [
    "features = ['period', 'playoffs', 'seconds_remaining', 'minutes_remaining', 'season',\n",
    "            'shot_distance', 'shot_made_flag', 'shot_zone_area', 'game_date', 'matchup', \n",
    "            'action_type', 'Def_Rtg']\n",
    "\n",
    "dataset = data[features]\n",
    "dataset['total_seconds_remaining'] = 60*dataset['minutes_remaining'] + dataset['seconds_remaining']\n",
    "dataset.drop('minutes_remaining', axis=1, inplace=True)\n",
    "dataset.drop('seconds_remaining', axis=1, inplace=True)\n",
    "dataset['month'] = dataset['game_date'].map(lambda x: x.split('-')[1])\n",
    "dataset.drop('game_date', axis=1, inplace=True)\n",
    "dataset['home'] = dataset['matchup'].str.contains('vs').astype('int')\n",
    "dataset.drop('matchup', axis=1, inplace=True)\n",
    "dataset[\"action_type\"] = dataset[\"action_type\"].astype('category')\n",
    "dataset[\"period\"] = dataset[\"period\"].astype('category')\n",
    "dataset[\"playoffs\"] = dataset[\"playoffs\"].astype('category')\n",
    "dataset[\"season\"] = dataset[\"season\"].astype('category')\n",
    "dataset[\"shot_made_flag\"] = dataset[\"shot_made_flag\"].astype('category')\n",
    "dataset[\"month\"] = dataset[\"month\"].astype('category')\n",
    "dataset[\"home\"] = dataset[\"home\"].astype('category')\n",
    "multi_categorical_features = ['action_type', 'period', 'season', 'month', 'shot_zone_area']\n",
    "numerical_features = ['total_seconds_remaining', 'shot_distance']\n",
    "for c in multi_categorical_features:\n",
    "    dummies = pd.get_dummies(dataset[c], drop_first=True)\n",
    "    dummies = dummies.add_prefix(\"{}#\".format(c))\n",
    "    dataset.drop(c, axis=1, inplace=True)\n",
    "    dataset = dataset.join(dummies)\n",
    "\n",
    "X = dataset.loc[:, dataset.columns != 'shot_made_flag']\n",
    "y = dataset['shot_made_flag']\n",
    "X_train, X_test, y_train, y_test = train_test_split(X, y)"
   ]
  },
  {
   "cell_type": "code",
   "execution_count": 13,
   "metadata": {},
   "outputs": [
    {
     "name": "stdout",
     "output_type": "stream",
     "text": [
      "Test Accuracy: -0.6007\n",
      "Test Log-Loss: 0.6007\n",
      "Training Accuracy: -0.5824\n",
      "GradientBoostingClassifier(criterion='friedman_mse', init=None,\n",
      "              learning_rate=0.1, loss='deviance', max_depth=4,\n",
      "              max_features=None, max_leaf_nodes=None,\n",
      "              min_impurity_decrease=0.0, min_impurity_split=None,\n",
      "              min_samples_leaf=1, min_samples_split=4,\n",
      "              min_weight_fraction_leaf=0.0, n_estimators=120,\n",
      "              n_iter_no_change=None, presort='auto', random_state=None,\n",
      "              subsample=1.0, tol=0.0001, validation_fraction=0.1,\n",
      "              verbose=0, warm_start=False)\n"
     ]
    }
   ],
   "source": [
    "from sklearn.ensemble import GradientBoostingClassifier\n",
    "\n",
    "rf = GradientBoostingClassifier(n_estimators=120, max_depth=4, min_samples_split=4)\n",
    "grid_params = {'min_samples_split':np.arange(2,10,1)}\n",
    "gs = GridSearchCV(estimator=rf,  \n",
    "                  param_grid=grid_params,\n",
    "                  scoring='neg_log_loss',\n",
    "                  cv=5)\n",
    "gs.fit(X_train, y_train)\n",
    "evaluateModel(gs)\n",
    "print(f\"{gs.best_estimator_}\")"
   ]
  },
  {
   "cell_type": "code",
   "execution_count": null,
   "metadata": {},
   "outputs": [],
   "source": [
    "gs.best_estimator_timator_"
   ]
  },
  {
   "cell_type": "code",
   "execution_count": null,
   "metadata": {},
   "outputs": [],
   "source": [
    "features = ['period', 'playoffs', 'seconds_remaining', 'minutes_remaining', 'season',\n",
    "            'shot_distance', 'shot_made_flag', 'shot_zone_area', 'game_date', 'matchup', \n",
    "            'action_type', 'Def_Rtg']\n",
    "\n",
    "dataset = data[features]\n",
    "dataset['total_seconds_remaining'] = 60*dataset['minutes_remaining'] + dataset['seconds_remaining']\n",
    "dataset.drop('minutes_remaining', axis=1, inplace=True)\n",
    "dataset.drop('seconds_remaining', axis=1, inplace=True)\n",
    "dataset['month'] = dataset['game_date'].map(lambda x: x.split('-')[1])\n",
    "dataset.drop('game_date', axis=1, inplace=True)\n",
    "dataset['home'] = dataset['matchup'].str.contains('vs').astype('int')\n",
    "dataset.drop('matchup', axis=1, inplace=True)\n",
    "dataset[\"action_type\"] = dataset[\"action_type\"].astype('category')\n",
    "dataset[\"period\"] = dataset[\"period\"].astype('category')\n",
    "dataset[\"playoffs\"] = dataset[\"playoffs\"].astype('category')\n",
    "dataset[\"season\"] = dataset[\"season\"].astype('category')\n",
    "dataset[\"shot_made_flag\"] = dataset[\"shot_made_flag\"].astype('category')\n",
    "dataset[\"month\"] = dataset[\"month\"].astype('category')\n",
    "dataset[\"home\"] = dataset[\"home\"].astype('category')\n",
    "multi_categorical_features = ['action_type', 'period', 'season', 'month', 'shot_zone_area']\n",
    "numerical_features = ['total_seconds_remaining', 'shot_distance']\n",
    "for c in multi_categorical_features:\n",
    "    dummies = pd.get_dummies(dataset[c], drop_first=True)\n",
    "    dummies = dummies.add_prefix(\"{}#\".format(c))\n",
    "    dataset.drop(c, axis=1, inplace=True)\n",
    "    dataset = dataset.join(dummies)\n",
    "\n",
    "X = dataset.loc[:, dataset.columns != 'shot_made_flag']\n",
    "y = dataset['shot_made_flag']\n",
    "X_train, X_test, y_train, y_test = train_test_split(X, y)"
   ]
  }
 ],
 "metadata": {
  "kernelspec": {
   "display_name": "Python 3",
   "language": "python",
   "name": "python3"
  },
  "language_info": {
   "codemirror_mode": {
    "name": "ipython",
    "version": 3
   },
   "file_extension": ".py",
   "mimetype": "text/x-python",
   "name": "python",
   "nbconvert_exporter": "python",
   "pygments_lexer": "ipython3",
   "version": "3.6.6"
  }
 },
 "nbformat": 4,
 "nbformat_minor": 2
}
